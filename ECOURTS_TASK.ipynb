{
  "cells": [
    {
      "cell_type": "markdown",
      "metadata": {
        "id": "Q4JW6Bol7Fvk"
      },
      "source": [
        "    Step 1: Install Dependencies"
      ]
    },
    {
      "cell_type": "code",
      "execution_count": null,
      "metadata": {
        "colab": {
          "base_uri": "https://localhost:8080/"
        },
        "id": "JywRZEaO7Kha",
        "outputId": "916ab083-0bf3-42e0-dc52-6923de3850a0"
      },
      "outputs": [
        {
          "name": "stdout",
          "output_type": "stream",
          "text": [
            "Requirement already satisfied: requests in /usr/local/lib/python3.12/dist-packages (2.32.4)\n",
            "Requirement already satisfied: beautifulsoup4 in /usr/local/lib/python3.12/dist-packages (4.13.5)\n",
            "Requirement already satisfied: lxml in /usr/local/lib/python3.12/dist-packages (5.4.0)\n",
            "Requirement already satisfied: charset_normalizer<4,>=2 in /usr/local/lib/python3.12/dist-packages (from requests) (3.4.4)\n",
            "Requirement already satisfied: idna<4,>=2.5 in /usr/local/lib/python3.12/dist-packages (from requests) (3.11)\n",
            "Requirement already satisfied: urllib3<3,>=1.21.1 in /usr/local/lib/python3.12/dist-packages (from requests) (2.5.0)\n",
            "Requirement already satisfied: certifi>=2017.4.17 in /usr/local/lib/python3.12/dist-packages (from requests) (2025.10.5)\n",
            "Requirement already satisfied: soupsieve>1.2 in /usr/local/lib/python3.12/dist-packages (from beautifulsoup4) (2.8)\n",
            "Requirement already satisfied: typing-extensions>=4.0.0 in /usr/local/lib/python3.12/dist-packages (from beautifulsoup4) (4.15.0)\n"
          ]
        }
      ],
      "source": [
        "!pip install requests beautifulsoup4 lxml"
      ]
    },
    {
      "cell_type": "markdown",
      "metadata": {
        "id": "iZ9f7Pcj7aoN"
      },
      "source": [
        "Step 2: Import Libraries"
      ]
    },
    {
      "cell_type": "code",
      "execution_count": null,
      "metadata": {
        "id": "Irzs5kUQ7eMW"
      },
      "outputs": [],
      "source": [
        "import requests\n",
        "from bs4 import BeautifulSoup\n",
        "import json\n",
        "from datetime import datetime, timedelta"
      ]
    },
    {
      "cell_type": "markdown",
      "metadata": {
        "id": "AWIizTDG74pM"
      },
      "source": [
        "Step 3: Define Helper Functions"
      ]
    },
    {
      "cell_type": "code",
      "execution_count": null,
      "metadata": {
        "id": "pU29vRrC78aJ"
      },
      "outputs": [],
      "source": [
        "BASE_URL = \"https://services.ecourts.gov.in/ecourtindia_v6/\"\n",
        "CNR_SEARCH_URL = BASE_URL + \"casestatus_new/find_cnr_no.php\"\n",
        "CAUSELIST_URL = BASE_URL + \"casestatus_new/causelist.php\"\n",
        "\n",
        "def get_case_by_cnr(cnr):\n",
        "  \"\"\"\n",
        "  Fetch case info by CNR number.\n",
        "  \"\"\"\n",
        "  try:\n",
        "    res = requests.post(CNR_SEARCH_URL, data={\"cnrno\": cnr}, timeout=15)\n",
        "    res.raise_for_status()\n",
        "    soup = BeautifulSoup(res.text, \"lxml\")\n",
        "    case_info = soup.get_text(strip=True)\n",
        "    return {\"CNR\": cnr, \"Info\": case_info}\n",
        "  except Exception as e:\n",
        "    return {\"CNR\": cnr, \"Error\": str(e)}\n",
        "\n",
        "def get_cause_list(date):\n",
        "  \"\"\"\n",
        "  Fetch the daily cause list (today/tomorrow).\n",
        "  \"\"\"\n",
        "  try:\n",
        "    data = {\"date\": date.strftime(\"%d-%m-%Y\")}\n",
        "    res = requests.post(CAUSELIST_URL, data=data, timeout=20)\n",
        "    res.raise_for_status()\n",
        "    soup = BeautifulSoup(res.text, \"lxml\")\n",
        "    text = soup.get_text(separator=\"\\n\", strip=True)\n",
        "    return {\"Date\": date.strftime(\"%d-%m-%Y\"), \"CauseList\": text}\n",
        "  except Exception as e:\n",
        "    return {\"Date\": date.strftime(\"%d-%m-%Y\"), \"Error\": str(e)}\n"
      ]
    },
    {
      "cell_type": "markdown",
      "metadata": {
        "id": "C8S6ttK9_Pzq"
      },
      "source": [
        "Step 4: Main Program Logic"
      ]
    },
    {
      "cell_type": "code",
      "execution_count": null,
      "metadata": {
        "colab": {
          "base_uri": "https://localhost:8080/"
        },
        "id": "yJGLPNj-_TaP",
        "outputId": "94875dc8-c67f-4f04-adf8-77102a640dae"
      },
      "outputs": [
        {
          "name": "stdout",
          "output_type": "stream",
          "text": [
            " * eCourts Scraper *\n",
            "Options:\n",
            "1. Search by CNR\n",
            "2. Download Cause List\n",
            "Enter 1 or 2: 2\n",
            "1. Today\n",
            "2. Tomorrow\n",
            "Enter 1 or 2: 1\n",
            " Cause List downloaded for  20-10-2025\n"
          ]
        }
      ],
      "source": [
        "def main():\n",
        "  print(\" * eCourts Scraper *\")\n",
        "  print(\"Options:\\n1. Search by CNR\\n2. Download Cause List\")\n",
        "  choice = input(\"Enter 1 or 2: \")\n",
        "\n",
        "  if choice == \"1\":\n",
        "    cnr = input(\"Enter CNR Number (e.g., MHLA010012342023): \").strip()\n",
        "    result = get_case_by_cnr(cnr)\n",
        "    print(json.dumps(result, indent=2))\n",
        "    with open(\"case_result.json\", \"w\", encoding=\"utf-8\") as f:\n",
        "      json.dump(result, f, indent=2, ensure_ascii=False)\n",
        "\n",
        "  elif choice == \"2\":\n",
        "    print(\"1. Today\\n2. Tomorrow\")\n",
        "    opt = input(\"Enter 1 or 2: \")\n",
        "    date = datetime.now() if opt == \"1\" else datetime.now() +timedelta(days=1)\n",
        "    result = get_cause_list(date)\n",
        "    print(\" Cause List downloaded for \", result[\"Date\"])\n",
        "    with open(f\"cause_list_{result['Date']}.txt\", \"w\", encoding=\"utf-8\") as f:\n",
        "      f.write(result.get(\"CauseList\", \"\"))\n",
        "  else:\n",
        "    print(\"Invalid Option\")\n",
        "\n",
        "if __name__ == \"__main__\":\n",
        "  main()\n",
        "\n",
        "\n",
        "\n"
      ]
    },
    {
      "cell_type": "markdown",
      "metadata": {
        "id": "CqdJoP6vF55B"
      },
      "source": [
        "Step 5: README (for submission)"
      ]
    },
    {
      "cell_type": "code",
      "execution_count": null,
      "metadata": {
        "id": "KW8cutFiGG46"
      },
      "outputs": [],
      "source": [
        "# eCourts Scraper\n",
        "\n",
        "## Setup\n",
        "# Use the following command in a new cell with ! to install dependencies:\n",
        "# !pip install requests beautifulsoup4 looks_like_xml\n",
        "\n",
        "## Usage\n",
        "# python ecourt_scraper.py\n",
        "#   Enter option 1 for CNR search or 2 for Cause List.and\n",
        "\n",
        "# Outputs saved as JSON/TXT in current directory."
      ]
    },
    {
      "cell_type": "code",
      "execution_count": null,
      "metadata": {
        "colab": {
          "base_uri": "https://localhost:8080/"
        },
        "id": "eknLeeQEGqkJ",
        "outputId": "f0f0700b-651a-47d4-e2aa-1b4bf87138da"
      },
      "outputs": [
        {
          "name": "stdout",
          "output_type": "stream",
          "text": [
            "Requirement already satisfied: requests in /usr/local/lib/python3.12/dist-packages (2.32.4)\n",
            "Requirement already satisfied: beautifulsoup4 in /usr/local/lib/python3.12/dist-packages (4.13.5)\n",
            "\u001b[31mERROR: Could not find a version that satisfies the requirement looks_like_xml (from versions: none)\u001b[0m\u001b[31m\n",
            "\u001b[0m\u001b[31mERROR: No matching distribution found for looks_like_xml\u001b[0m\u001b[31m\n",
            "\u001b[0m"
          ]
        }
      ],
      "source": [
        "!pip install requests beautifulsoup4 looks_like_xml\n"
      ]
    },
    {
      "cell_type": "code",
      "execution_count": null,
      "metadata": {
        "colab": {
          "base_uri": "https://localhost:8080/"
        },
        "id": "mWb0tuGbHKOE",
        "outputId": "2d7d0c4a-0f79-40f4-c0da-47991ac84cd5"
      },
      "outputs": [
        {
          "name": "stdout",
          "output_type": "stream",
          "text": [
            "Requirement already satisfied: requests in /usr/local/lib/python3.12/dist-packages (2.32.4)\n",
            "Requirement already satisfied: beautifulsoup4 in /usr/local/lib/python3.12/dist-packages (4.13.5)\n",
            "Requirement already satisfied: lxml in /usr/local/lib/python3.12/dist-packages (5.4.0)\n",
            "Requirement already satisfied: charset_normalizer<4,>=2 in /usr/local/lib/python3.12/dist-packages (from requests) (3.4.4)\n",
            "Requirement already satisfied: idna<4,>=2.5 in /usr/local/lib/python3.12/dist-packages (from requests) (3.11)\n",
            "Requirement already satisfied: urllib3<3,>=1.21.1 in /usr/local/lib/python3.12/dist-packages (from requests) (2.5.0)\n",
            "Requirement already satisfied: certifi>=2017.4.17 in /usr/local/lib/python3.12/dist-packages (from requests) (2025.10.5)\n",
            "Requirement already satisfied: soupsieve>1.2 in /usr/local/lib/python3.12/dist-packages (from beautifulsoup4) (2.8)\n",
            "Requirement already satisfied: typing-extensions>=4.0.0 in /usr/local/lib/python3.12/dist-packages (from beautifulsoup4) (4.15.0)\n"
          ]
        }
      ],
      "source": [
        "!pip install requests beautifulsoup4 lxml"
      ]
    },
    {
      "cell_type": "code",
      "execution_count": null,
      "metadata": {
        "colab": {
          "base_uri": "https://localhost:8080/"
        },
        "id": "V4BWOGyvHS8A",
        "outputId": "c41c9107-f472-439f-d066-157385723770"
      },
      "outputs": [
        {
          "name": "stdout",
          "output_type": "stream",
          "text": [
            "python3: can't open file '/content/ecourt_scraper.py': [Errno 2] No such file or directory\n"
          ]
        }
      ],
      "source": [
        "!python ecourt_scraper.py"
      ]
    },
    {
      "cell_type": "code",
      "execution_count": null,
      "metadata": {
        "id": "1563cc7f"
      },
      "outputs": [],
      "source": [
        "# Write the Python script to a file\n",
        "with open('ecourt_scraper.py', 'w') as f:\n",
        "    f.write(\"\"\"\n",
        "import requests\n",
        "from bs4 import BeautifulSoup\n",
        "import json\n",
        "from datetime import datetime, timedelta\n",
        "\n",
        "BASE_URL = \"https://services.ecourts.gov.in/ecourtindia_v6/\"\n",
        "CNR_SEARCH_URL = BASE_URL + \"casestatus_new/find_cnr_no.php\"\n",
        "CAUSELIST_URL = BASE_URL + \"casestatus_new/causelist.php\"\n",
        "\n",
        "def get_case_by_cnr(cnr):\n",
        "  \\\"\\\"\\\"\n",
        "  Fetch case info by CNR number.\n",
        "  \\\"\\\"\\\"\n",
        "  try:\n",
        "    res = requests.post(CNR_SEARCH_URL, data={\"cnrno\": cnr}, timeout=15)\n",
        "    res.raise_for_status()\n",
        "    soup = BeautifulSoup(res.text, \"lxml\")\n",
        "    case_info = soup.get_text(strip=True)\n",
        "    return {\"CNR\": cnr, \"Info\": case_info}\n",
        "  except Exception as e:\n",
        "    return {\"CNR\": cnr, \"Error\": str(e)}\n",
        "\n",
        "def get_cause_list(date):\n",
        "  \\\"\\\"\\\"\n",
        "  Fetch the daily cause list (today/tomorrow).\n",
        "  \\\"\\\"\\\"\n",
        "  try:\n",
        "    data = {\"date\": date.strftime(\"%d-%m-%Y\")}\n",
        "    res = requests.post(CAUSELIST_URL, data=data, timeout=20)\n",
        "    res.raise_for_status()\n",
        "    soup = BeautifulSoup(res.text, \"lxml\")\n",
        "    text = soup.get_text(separator=\"\\\\n\", strip=True)\n",
        "    return {\"Date\": date.strftime(\"%d-%m-%Y\"), \"CauseList\": text}\n",
        "  except Exception as e:\n",
        "    return {\"Date\": date.strftime(\"%d-%m-%Y\"), \"Error\": str(e)}\n",
        "\n",
        "def main():\n",
        "  print(\" * eCourts Scraper *\")\n",
        "  print(\"Options:\\\\n1. Search by CNR\\\\n2. Download Cause List\")\n",
        "  choice = input(\"Enter 1 or 2: \")\n",
        "\n",
        "  if choice == \"1\":\n",
        "    cnr = input(\"Enter CNR Number (e.g., MHLA010012342023): \").strip()\n",
        "    result = get_case_by_cnr(cnr)\n",
        "    print(json.dumps(result, indent=2))\n",
        "    with open(\"case_result.json\", \"w\", encoding=\"utf-8\") as f:\n",
        "      json.dump(result, f, indent=2, ensure_ascii=False)\n",
        "\n",
        "  elif choice == \"2\":\n",
        "    print(\"1. Today\\\\n2. Tomorrow\")\n",
        "    opt = input(\"Enter 1 or 2: \")\n",
        "    date = datetime.now() if opt == \"1\" else datetime.now() +timedelta(days=1)\n",
        "    result = get_cause_list(date)\n",
        "    print(\" Cause List downloaded for \", result[\"Date\"])\n",
        "    with open(f\"cause_list_{result['Date']}.txt\", \"w\", encoding=\"utf-8\") as f:\n",
        "      f.write(result.get(\"CauseList\", \"\"))\n",
        "  else:\n",
        "    print(\"Invalid Option\")\n",
        "\n",
        "if __name__ == \"__main__\":\n",
        "  main()\n",
        "\"\"\")"
      ]
    },
    {
      "cell_type": "code",
      "execution_count": null,
      "metadata": {
        "colab": {
          "base_uri": "https://localhost:8080/"
        },
        "id": "wnBrXQNQomnX",
        "outputId": "f1494c97-4fae-406b-c107-95a0503fafb5"
      },
      "outputs": [
        {
          "name": "stdout",
          "output_type": "stream",
          "text": [
            " * eCourts Scraper *\n",
            "Options:\n",
            "1. Search by CNR\n",
            "2. Download Cause List\n",
            "Enter 1 or 2: 2\n",
            "1. Today\n",
            "2. Tomorrow\n",
            "Enter 1 or 2: 1\n",
            " Cause List downloaded for  21-10-2025\n"
          ]
        }
      ],
      "source": [
        "!python ecourt_scraper.py"
      ]
    },
    {
      "cell_type": "markdown",
      "metadata": {
        "id": "xqZOVBuK649C"
      },
      "source": [
        "Creating Streamlit UI"
      ]
    },
    {
      "cell_type": "markdown",
      "metadata": {
        "id": "xe5aCYYU6_Fl"
      },
      "source": [
        "Step 1: Install Dependencies"
      ]
    },
    {
      "cell_type": "code",
      "execution_count": 2,
      "metadata": {
        "colab": {
          "base_uri": "https://localhost:8080/"
        },
        "id": "cdhx0I0T2BMs",
        "outputId": "c1fc754d-00fd-449c-d34d-6695815f31b8"
      },
      "outputs": [
        {
          "output_type": "stream",
          "name": "stdout",
          "text": [
            "Collecting streamlit\n",
            "  Downloading streamlit-1.50.0-py3-none-any.whl.metadata (9.5 kB)\n",
            "Requirement already satisfied: requests in /usr/local/lib/python3.12/dist-packages (2.32.4)\n",
            "Requirement already satisfied: beautifulsoup4 in /usr/local/lib/python3.12/dist-packages (4.13.5)\n",
            "Requirement already satisfied: lxml in /usr/local/lib/python3.12/dist-packages (5.4.0)\n",
            "Collecting pyngrok\n",
            "  Downloading pyngrok-7.4.0-py3-none-any.whl.metadata (8.1 kB)\n",
            "Requirement already satisfied: altair!=5.4.0,!=5.4.1,<6,>=4.0 in /usr/local/lib/python3.12/dist-packages (from streamlit) (5.5.0)\n",
            "Requirement already satisfied: blinker<2,>=1.5.0 in /usr/local/lib/python3.12/dist-packages (from streamlit) (1.9.0)\n",
            "Requirement already satisfied: cachetools<7,>=4.0 in /usr/local/lib/python3.12/dist-packages (from streamlit) (5.5.2)\n",
            "Requirement already satisfied: click<9,>=7.0 in /usr/local/lib/python3.12/dist-packages (from streamlit) (8.3.0)\n",
            "Requirement already satisfied: numpy<3,>=1.23 in /usr/local/lib/python3.12/dist-packages (from streamlit) (2.0.2)\n",
            "Requirement already satisfied: packaging<26,>=20 in /usr/local/lib/python3.12/dist-packages (from streamlit) (25.0)\n",
            "Requirement already satisfied: pandas<3,>=1.4.0 in /usr/local/lib/python3.12/dist-packages (from streamlit) (2.2.2)\n",
            "Requirement already satisfied: pillow<12,>=7.1.0 in /usr/local/lib/python3.12/dist-packages (from streamlit) (11.3.0)\n",
            "Requirement already satisfied: protobuf<7,>=3.20 in /usr/local/lib/python3.12/dist-packages (from streamlit) (5.29.5)\n",
            "Requirement already satisfied: pyarrow>=7.0 in /usr/local/lib/python3.12/dist-packages (from streamlit) (18.1.0)\n",
            "Requirement already satisfied: tenacity<10,>=8.1.0 in /usr/local/lib/python3.12/dist-packages (from streamlit) (8.5.0)\n",
            "Requirement already satisfied: toml<2,>=0.10.1 in /usr/local/lib/python3.12/dist-packages (from streamlit) (0.10.2)\n",
            "Requirement already satisfied: typing-extensions<5,>=4.4.0 in /usr/local/lib/python3.12/dist-packages (from streamlit) (4.15.0)\n",
            "Requirement already satisfied: watchdog<7,>=2.1.5 in /usr/local/lib/python3.12/dist-packages (from streamlit) (6.0.0)\n",
            "Requirement already satisfied: gitpython!=3.1.19,<4,>=3.0.7 in /usr/local/lib/python3.12/dist-packages (from streamlit) (3.1.45)\n",
            "Collecting pydeck<1,>=0.8.0b4 (from streamlit)\n",
            "  Downloading pydeck-0.9.1-py2.py3-none-any.whl.metadata (4.1 kB)\n",
            "Requirement already satisfied: tornado!=6.5.0,<7,>=6.0.3 in /usr/local/lib/python3.12/dist-packages (from streamlit) (6.5.1)\n",
            "Requirement already satisfied: charset_normalizer<4,>=2 in /usr/local/lib/python3.12/dist-packages (from requests) (3.4.4)\n",
            "Requirement already satisfied: idna<4,>=2.5 in /usr/local/lib/python3.12/dist-packages (from requests) (3.11)\n",
            "Requirement already satisfied: urllib3<3,>=1.21.1 in /usr/local/lib/python3.12/dist-packages (from requests) (2.5.0)\n",
            "Requirement already satisfied: certifi>=2017.4.17 in /usr/local/lib/python3.12/dist-packages (from requests) (2025.10.5)\n",
            "Requirement already satisfied: soupsieve>1.2 in /usr/local/lib/python3.12/dist-packages (from beautifulsoup4) (2.8)\n",
            "Requirement already satisfied: PyYAML>=5.1 in /usr/local/lib/python3.12/dist-packages (from pyngrok) (6.0.3)\n",
            "Requirement already satisfied: jinja2 in /usr/local/lib/python3.12/dist-packages (from altair!=5.4.0,!=5.4.1,<6,>=4.0->streamlit) (3.1.6)\n",
            "Requirement already satisfied: jsonschema>=3.0 in /usr/local/lib/python3.12/dist-packages (from altair!=5.4.0,!=5.4.1,<6,>=4.0->streamlit) (4.25.1)\n",
            "Requirement already satisfied: narwhals>=1.14.2 in /usr/local/lib/python3.12/dist-packages (from altair!=5.4.0,!=5.4.1,<6,>=4.0->streamlit) (2.8.0)\n",
            "Requirement already satisfied: gitdb<5,>=4.0.1 in /usr/local/lib/python3.12/dist-packages (from gitpython!=3.1.19,<4,>=3.0.7->streamlit) (4.0.12)\n",
            "Requirement already satisfied: python-dateutil>=2.8.2 in /usr/local/lib/python3.12/dist-packages (from pandas<3,>=1.4.0->streamlit) (2.9.0.post0)\n",
            "Requirement already satisfied: pytz>=2020.1 in /usr/local/lib/python3.12/dist-packages (from pandas<3,>=1.4.0->streamlit) (2025.2)\n",
            "Requirement already satisfied: tzdata>=2022.7 in /usr/local/lib/python3.12/dist-packages (from pandas<3,>=1.4.0->streamlit) (2025.2)\n",
            "Requirement already satisfied: smmap<6,>=3.0.1 in /usr/local/lib/python3.12/dist-packages (from gitdb<5,>=4.0.1->gitpython!=3.1.19,<4,>=3.0.7->streamlit) (5.0.2)\n",
            "Requirement already satisfied: MarkupSafe>=2.0 in /usr/local/lib/python3.12/dist-packages (from jinja2->altair!=5.4.0,!=5.4.1,<6,>=4.0->streamlit) (3.0.3)\n",
            "Requirement already satisfied: attrs>=22.2.0 in /usr/local/lib/python3.12/dist-packages (from jsonschema>=3.0->altair!=5.4.0,!=5.4.1,<6,>=4.0->streamlit) (25.4.0)\n",
            "Requirement already satisfied: jsonschema-specifications>=2023.03.6 in /usr/local/lib/python3.12/dist-packages (from jsonschema>=3.0->altair!=5.4.0,!=5.4.1,<6,>=4.0->streamlit) (2025.9.1)\n",
            "Requirement already satisfied: referencing>=0.28.4 in /usr/local/lib/python3.12/dist-packages (from jsonschema>=3.0->altair!=5.4.0,!=5.4.1,<6,>=4.0->streamlit) (0.37.0)\n",
            "Requirement already satisfied: rpds-py>=0.7.1 in /usr/local/lib/python3.12/dist-packages (from jsonschema>=3.0->altair!=5.4.0,!=5.4.1,<6,>=4.0->streamlit) (0.27.1)\n",
            "Requirement already satisfied: six>=1.5 in /usr/local/lib/python3.12/dist-packages (from python-dateutil>=2.8.2->pandas<3,>=1.4.0->streamlit) (1.17.0)\n",
            "Downloading streamlit-1.50.0-py3-none-any.whl (10.1 MB)\n",
            "\u001b[2K   \u001b[90m━━━━━━━━━━━━━━━━━━━━━━━━━━━━━━━━━━━━━━━━\u001b[0m \u001b[32m10.1/10.1 MB\u001b[0m \u001b[31m60.9 MB/s\u001b[0m eta \u001b[36m0:00:00\u001b[0m\n",
            "\u001b[?25hDownloading pyngrok-7.4.0-py3-none-any.whl (25 kB)\n",
            "Downloading pydeck-0.9.1-py2.py3-none-any.whl (6.9 MB)\n",
            "\u001b[2K   \u001b[90m━━━━━━━━━━━━━━━━━━━━━━━━━━━━━━━━━━━━━━━━\u001b[0m \u001b[32m6.9/6.9 MB\u001b[0m \u001b[31m115.9 MB/s\u001b[0m eta \u001b[36m0:00:00\u001b[0m\n",
            "\u001b[?25hInstalling collected packages: pyngrok, pydeck, streamlit\n",
            "Successfully installed pydeck-0.9.1 pyngrok-7.4.0 streamlit-1.50.0\n"
          ]
        }
      ],
      "source": [
        "!pip install streamlit requests beautifulsoup4 lxml pyngrok"
      ]
    },
    {
      "cell_type": "markdown",
      "metadata": {
        "id": "gLngt_wt7pda"
      },
      "source": [
        "Step 2: Create the Streamlit app"
      ]
    },
    {
      "cell_type": "code",
      "execution_count": 3,
      "metadata": {
        "colab": {
          "base_uri": "https://localhost:8080/"
        },
        "id": "85lI_-Ot7isV",
        "outputId": "23b7b3ab-de8b-438c-bfc3-4572532319e1"
      },
      "outputs": [
        {
          "output_type": "stream",
          "name": "stderr",
          "text": [
            "2025-10-22 06:54:43.981 WARNING streamlit.runtime.scriptrunner_utils.script_run_context: Thread 'MainThread': missing ScriptRunContext! This warning can be ignored when running in bare mode.\n",
            "2025-10-22 06:54:44.114 \n",
            "  \u001b[33m\u001b[1mWarning:\u001b[0m to view this Streamlit app on a browser, run it with the following\n",
            "  command:\n",
            "\n",
            "    streamlit run /usr/local/lib/python3.12/dist-packages/colab_kernel_launcher.py [ARGUMENTS]\n",
            "2025-10-22 06:54:44.115 Thread 'MainThread': missing ScriptRunContext! This warning can be ignored when running in bare mode.\n",
            "2025-10-22 06:54:44.116 Thread 'MainThread': missing ScriptRunContext! This warning can be ignored when running in bare mode.\n",
            "2025-10-22 06:54:44.118 Thread 'MainThread': missing ScriptRunContext! This warning can be ignored when running in bare mode.\n",
            "2025-10-22 06:54:44.122 Thread 'MainThread': missing ScriptRunContext! This warning can be ignored when running in bare mode.\n",
            "2025-10-22 06:54:44.123 Thread 'MainThread': missing ScriptRunContext! This warning can be ignored when running in bare mode.\n",
            "2025-10-22 06:54:44.124 Thread 'MainThread': missing ScriptRunContext! This warning can be ignored when running in bare mode.\n",
            "2025-10-22 06:54:44.125 Session state does not function when running a script without `streamlit run`\n",
            "2025-10-22 06:54:44.126 Thread 'MainThread': missing ScriptRunContext! This warning can be ignored when running in bare mode.\n",
            "2025-10-22 06:54:44.128 Thread 'MainThread': missing ScriptRunContext! This warning can be ignored when running in bare mode.\n",
            "2025-10-22 06:54:44.128 Thread 'MainThread': missing ScriptRunContext! This warning can be ignored when running in bare mode.\n",
            "2025-10-22 06:54:44.130 Thread 'MainThread': missing ScriptRunContext! This warning can be ignored when running in bare mode.\n",
            "2025-10-22 06:54:44.131 Thread 'MainThread': missing ScriptRunContext! This warning can be ignored when running in bare mode.\n",
            "2025-10-22 06:54:44.131 Thread 'MainThread': missing ScriptRunContext! This warning can be ignored when running in bare mode.\n",
            "2025-10-22 06:54:44.133 Thread 'MainThread': missing ScriptRunContext! This warning can be ignored when running in bare mode.\n",
            "2025-10-22 06:54:44.134 Thread 'MainThread': missing ScriptRunContext! This warning can be ignored when running in bare mode.\n",
            "2025-10-22 06:54:44.134 Thread 'MainThread': missing ScriptRunContext! This warning can be ignored when running in bare mode.\n",
            "2025-10-22 06:54:44.135 Thread 'MainThread': missing ScriptRunContext! This warning can be ignored when running in bare mode.\n",
            "2025-10-22 06:54:44.136 Thread 'MainThread': missing ScriptRunContext! This warning can be ignored when running in bare mode.\n",
            "2025-10-22 06:54:44.138 Thread 'MainThread': missing ScriptRunContext! This warning can be ignored when running in bare mode.\n",
            "2025-10-22 06:54:44.139 Thread 'MainThread': missing ScriptRunContext! This warning can be ignored when running in bare mode.\n",
            "2025-10-22 06:54:44.140 Thread 'MainThread': missing ScriptRunContext! This warning can be ignored when running in bare mode.\n",
            "2025-10-22 06:54:44.141 Thread 'MainThread': missing ScriptRunContext! This warning can be ignored when running in bare mode.\n",
            "2025-10-22 06:54:44.141 Thread 'MainThread': missing ScriptRunContext! This warning can be ignored when running in bare mode.\n"
          ]
        }
      ],
      "source": [
        "from os import uname_result\n",
        "import streamlit as st\n",
        "import requests\n",
        "from bs4 import BeautifulSoup\n",
        "from datetime import datetime, timedelta\n",
        "import json\n",
        "from io import BytesIO\n",
        "\n",
        "#----------------------------------\n",
        "# URLs\n",
        "#----------------------------------\n",
        "BASE_URL = \"https://services.ecourts.gov.in/ecourtindia_v6/\"\n",
        "CNR_SEARCH_URL = BASE_URL + \"casestatus_new/find_cnr_no.php\"\n",
        "CAUSELIST_URL = BASE_URL + \"casestatus_new/causelist.php\"\n",
        "\n",
        "#----------------------------------\n",
        "# Functions\n",
        "#----------------------------------\n",
        "def get_case_by_cnr(cnr):\n",
        "  try:\n",
        "    res = requests.post(CNR_SEARCH_URL, data={\"cnrno\": cnr}, timeout=15)\n",
        "    res.raise_for_status()\n",
        "    soup = BeautifulSoup(res.text, \"lxml\")\n",
        "    case_info = soup.get_text(separator=\"\\n\", strip=True)\n",
        "    return {\"CNR\": cnr, \"Info\": case_info}\n",
        "  except Exception as e:\n",
        "    return {\"CNR\": cnr, \"Error\": str(e)}\n",
        "\n",
        "def get_cause_list(date):\n",
        "  try:\n",
        "    data = {\"date\": date.strftime(\"%d-%m-%Y\")}\n",
        "    res = requests.post(CAUSELIST_URL, data=data, timeout=20)\n",
        "    res.raise_for_status()\n",
        "    soup = BeautifulSoup(res.text, \"lxml\")\n",
        "    text = soup.get_text(separator=\"\\n\", strip=True)\n",
        "    return {\"Date\": date.strftime(\"%d-%m-%Y\"), \"CauseList\": text}\n",
        "  except Exception as e:\n",
        "    return {\"Date\": date.strftime(\"%d-%m-%Y\"), \"Error\": str(e)}\n",
        "\n",
        "#-----------------------------------\n",
        "# Streamlit UI\n",
        "#-----------------------------------\n",
        "st.title(\"eCourts Scraper\")\n",
        "\n",
        "option = st.sidebar.selectbox(\n",
        "    \"Choose Action\",\n",
        "    [\"Search by CNR\", \"Download Cause List\"]\n",
        ")\n",
        "\n",
        "if option == \"Search by CNR\":\n",
        "  cnr = st.text_input(\"Enter CNR Number (e.g., MHLA010012342023):\")\n",
        "  if st.button(\"Fetch Case Details\"):\n",
        "    if cnr.strip():\n",
        "      result = get_case_by_cnr(cnr)\n",
        "      st.json(result)\n",
        "      json_bytes = json.dumps(result, indent=2).encode(\"utf-8\")\n",
        "      st.download_button(\"Download JSON\", json_bytes, file_name=\"case_result.json\")\n",
        "    else:\n",
        "      st.warning(\"Please enter a valid CNR number.\")\n",
        "\n",
        "elif option == \"Download Cause List\":\n",
        "  choice = st.radio(\"Select Date:\", [\"Today\", \"Tomorrow\"])\n",
        "  if st.button(\"Fetch Cause List\"):\n",
        "    date = datetime.now() if choice == \"Today\" else datetime.now() + timedelta(days=1)\n",
        "    result = get_cause_list(date)\n",
        "    st.subheader(f\"Cause List for {result['Date']}\")\n",
        "    st.text_area(\"Result:\", result.get(\"CauseList\", \"No data available\"), height=300)\n",
        "    txt_bytes = result.get(\"CauseList\", \"\").encode(\"utf-8\")\n",
        "    st.download_button(\"Download Text\", txt_bytes, file_name=f\"cause_list_{result['Date']}.txt\")\n"
      ]
    },
    {
      "cell_type": "markdown",
      "metadata": {
        "id": "MPYMJrKVB4xx"
      },
      "source": [
        "Step 3: Run Streamlit in Google Colab"
      ]
    },
    {
      "cell_type": "code",
      "execution_count": null,
      "metadata": {
        "colab": {
          "base_uri": "https://localhost:8080/"
        },
        "id": "af3303d1",
        "outputId": "1897e88f-fa24-4f91-87bb-e378c545fb95"
      },
      "outputs": [
        {
          "name": "stdout",
          "output_type": "stream",
          "text": [
            "Collecting pyngrok\n",
            "  Downloading pyngrok-7.4.0-py3-none-any.whl.metadata (8.1 kB)\n",
            "Requirement already satisfied: PyYAML>=5.1 in /usr/local/lib/python3.12/dist-packages (from pyngrok) (6.0.3)\n",
            "Downloading pyngrok-7.4.0-py3-none-any.whl (25 kB)\n",
            "Installing collected packages: pyngrok\n",
            "Successfully installed pyngrok-7.4.0\n"
          ]
        }
      ],
      "source": [
        "!pip install pyngrok"
      ]
    },
    {
      "cell_type": "code",
      "execution_count": 7,
      "metadata": {
        "colab": {
          "base_uri": "https://localhost:8080/"
        },
        "id": "M795alMBgCsT",
        "outputId": "c4294917-6539-4c2a-e57c-707cfaf397f2"
      },
      "outputs": [
        {
          "output_type": "stream",
          "name": "stdout",
          "text": [
            "App running at: NgrokTunnel: \"https://unorbed-jeopardously-herman.ngrok-free.dev\" -> \"http://localhost:8501\"\n"
          ]
        }
      ],
      "source": [
        "from pyngrok import ngrok\n",
        "import threading, time, subprocess\n",
        "\n",
        "# Run Streamlit app\n",
        "def run_streamlit():\n",
        "  subprocess.run([\"streamlit\", \"run\", \"/content/app.py\"])\n",
        "\n",
        "# Save app file\n",
        "with open(\"/content/app.py\", \"w\") as f:\n",
        "  f.write(open(\"app.py\", \"r\").read() if \"app.py\" in locals() else \"\")\n",
        "\n",
        "# Launch in background\n",
        "thread = threading.Thread(target=lambda: subprocess.run([\"streamlit\", \"run\", \"/content/app.py\"]))\n",
        "thread.start()\n",
        "time.sleep(5)\n",
        "\n",
        "# Get public URL\n",
        "public_url = ngrok.connect(8501)\n",
        "print(\"App running at:\", public_url)"
      ]
    },
    {
      "cell_type": "code",
      "execution_count": 5,
      "metadata": {
        "colab": {
          "base_uri": "https://localhost:8080/",
          "height": 36
        },
        "id": "rzlANgMCpYGq",
        "outputId": "c9400657-9859-4b4c-c938-8cd952027424"
      },
      "outputs": [
        {
          "output_type": "execute_result",
          "data": {
            "text/plain": [
              "'34NuAa6wHSyZoyh6P8GoozZ7Qn3_2SVeiJ4yyTvt63Tv6pT8n\\r\\n\\r\\n\\r\\n\\r\\n\\r\\n\\r\\n\\r\\n\\r\\n\\r\\n'"
            ],
            "application/vnd.google.colaboratory.intrinsic+json": {
              "type": "string"
            }
          },
          "metadata": {},
          "execution_count": 5
        }
      ],
      "source": [
        "from google.colab import userdata\n",
        "userdata.get('NGROK_AUTH_TOKEN')"
      ]
    },
    {
      "cell_type": "code",
      "execution_count": 6,
      "metadata": {
        "colab": {
          "base_uri": "https://localhost:8080/"
        },
        "id": "3q2iI08gsqDy",
        "outputId": "3bf9b3e5-c3e8-49ce-e1ae-8abd5f5347d3"
      },
      "outputs": [
        {
          "output_type": "stream",
          "name": "stdout",
          "text": [
            "Authtoken saved to configuration file: /root/.config/ngrok/ngrok.yml\n"
          ]
        }
      ],
      "source": [
        "!ngrok config add-authtoken 34NuAa6wHSyZoyh6P8GoozZ7Qn3_2SVeiJ4yyTvt63Tv6pT8n"
      ]
    },
    {
      "cell_type": "code",
      "execution_count": 8,
      "metadata": {
        "colab": {
          "base_uri": "https://localhost:8080/"
        },
        "id": "f1b26978",
        "outputId": "0b1267db-8cdc-4d70-e40a-1fb037ae89d2"
      },
      "outputs": [
        {
          "output_type": "stream",
          "name": "stdout",
          "text": [
            "Writing requirements.txt\n"
          ]
        }
      ],
      "source": [
        "%%writefile requirements.txt\n",
        "streamlit\n",
        "requests\n",
        "beautifulsoup4\n",
        "lxml\n",
        "pyngrok"
      ]
    },
    {
      "cell_type": "code",
      "execution_count": 9,
      "metadata": {
        "colab": {
          "base_uri": "https://localhost:8080/"
        },
        "id": "58e71af0",
        "outputId": "9b331fa0-1eb9-4934-b372-84714614a7c8"
      },
      "outputs": [
        {
          "output_type": "stream",
          "name": "stdout",
          "text": [
            "Requirement already satisfied: streamlit in /usr/local/lib/python3.12/dist-packages (from -r requirements.txt (line 1)) (1.50.0)\n",
            "Requirement already satisfied: requests in /usr/local/lib/python3.12/dist-packages (from -r requirements.txt (line 2)) (2.32.4)\n",
            "Requirement already satisfied: beautifulsoup4 in /usr/local/lib/python3.12/dist-packages (from -r requirements.txt (line 3)) (4.13.5)\n",
            "Requirement already satisfied: lxml in /usr/local/lib/python3.12/dist-packages (from -r requirements.txt (line 4)) (5.4.0)\n",
            "Requirement already satisfied: pyngrok in /usr/local/lib/python3.12/dist-packages (from -r requirements.txt (line 5)) (7.4.0)\n",
            "Requirement already satisfied: altair!=5.4.0,!=5.4.1,<6,>=4.0 in /usr/local/lib/python3.12/dist-packages (from streamlit->-r requirements.txt (line 1)) (5.5.0)\n",
            "Requirement already satisfied: blinker<2,>=1.5.0 in /usr/local/lib/python3.12/dist-packages (from streamlit->-r requirements.txt (line 1)) (1.9.0)\n",
            "Requirement already satisfied: cachetools<7,>=4.0 in /usr/local/lib/python3.12/dist-packages (from streamlit->-r requirements.txt (line 1)) (5.5.2)\n",
            "Requirement already satisfied: click<9,>=7.0 in /usr/local/lib/python3.12/dist-packages (from streamlit->-r requirements.txt (line 1)) (8.3.0)\n",
            "Requirement already satisfied: numpy<3,>=1.23 in /usr/local/lib/python3.12/dist-packages (from streamlit->-r requirements.txt (line 1)) (2.0.2)\n",
            "Requirement already satisfied: packaging<26,>=20 in /usr/local/lib/python3.12/dist-packages (from streamlit->-r requirements.txt (line 1)) (25.0)\n",
            "Requirement already satisfied: pandas<3,>=1.4.0 in /usr/local/lib/python3.12/dist-packages (from streamlit->-r requirements.txt (line 1)) (2.2.2)\n",
            "Requirement already satisfied: pillow<12,>=7.1.0 in /usr/local/lib/python3.12/dist-packages (from streamlit->-r requirements.txt (line 1)) (11.3.0)\n",
            "Requirement already satisfied: protobuf<7,>=3.20 in /usr/local/lib/python3.12/dist-packages (from streamlit->-r requirements.txt (line 1)) (5.29.5)\n",
            "Requirement already satisfied: pyarrow>=7.0 in /usr/local/lib/python3.12/dist-packages (from streamlit->-r requirements.txt (line 1)) (18.1.0)\n",
            "Requirement already satisfied: tenacity<10,>=8.1.0 in /usr/local/lib/python3.12/dist-packages (from streamlit->-r requirements.txt (line 1)) (8.5.0)\n",
            "Requirement already satisfied: toml<2,>=0.10.1 in /usr/local/lib/python3.12/dist-packages (from streamlit->-r requirements.txt (line 1)) (0.10.2)\n",
            "Requirement already satisfied: typing-extensions<5,>=4.4.0 in /usr/local/lib/python3.12/dist-packages (from streamlit->-r requirements.txt (line 1)) (4.15.0)\n",
            "Requirement already satisfied: watchdog<7,>=2.1.5 in /usr/local/lib/python3.12/dist-packages (from streamlit->-r requirements.txt (line 1)) (6.0.0)\n",
            "Requirement already satisfied: gitpython!=3.1.19,<4,>=3.0.7 in /usr/local/lib/python3.12/dist-packages (from streamlit->-r requirements.txt (line 1)) (3.1.45)\n",
            "Requirement already satisfied: pydeck<1,>=0.8.0b4 in /usr/local/lib/python3.12/dist-packages (from streamlit->-r requirements.txt (line 1)) (0.9.1)\n",
            "Requirement already satisfied: tornado!=6.5.0,<7,>=6.0.3 in /usr/local/lib/python3.12/dist-packages (from streamlit->-r requirements.txt (line 1)) (6.5.1)\n",
            "Requirement already satisfied: charset_normalizer<4,>=2 in /usr/local/lib/python3.12/dist-packages (from requests->-r requirements.txt (line 2)) (3.4.4)\n",
            "Requirement already satisfied: idna<4,>=2.5 in /usr/local/lib/python3.12/dist-packages (from requests->-r requirements.txt (line 2)) (3.11)\n",
            "Requirement already satisfied: urllib3<3,>=1.21.1 in /usr/local/lib/python3.12/dist-packages (from requests->-r requirements.txt (line 2)) (2.5.0)\n",
            "Requirement already satisfied: certifi>=2017.4.17 in /usr/local/lib/python3.12/dist-packages (from requests->-r requirements.txt (line 2)) (2025.10.5)\n",
            "Requirement already satisfied: soupsieve>1.2 in /usr/local/lib/python3.12/dist-packages (from beautifulsoup4->-r requirements.txt (line 3)) (2.8)\n",
            "Requirement already satisfied: PyYAML>=5.1 in /usr/local/lib/python3.12/dist-packages (from pyngrok->-r requirements.txt (line 5)) (6.0.3)\n",
            "Requirement already satisfied: jinja2 in /usr/local/lib/python3.12/dist-packages (from altair!=5.4.0,!=5.4.1,<6,>=4.0->streamlit->-r requirements.txt (line 1)) (3.1.6)\n",
            "Requirement already satisfied: jsonschema>=3.0 in /usr/local/lib/python3.12/dist-packages (from altair!=5.4.0,!=5.4.1,<6,>=4.0->streamlit->-r requirements.txt (line 1)) (4.25.1)\n",
            "Requirement already satisfied: narwhals>=1.14.2 in /usr/local/lib/python3.12/dist-packages (from altair!=5.4.0,!=5.4.1,<6,>=4.0->streamlit->-r requirements.txt (line 1)) (2.8.0)\n",
            "Requirement already satisfied: gitdb<5,>=4.0.1 in /usr/local/lib/python3.12/dist-packages (from gitpython!=3.1.19,<4,>=3.0.7->streamlit->-r requirements.txt (line 1)) (4.0.12)\n",
            "Requirement already satisfied: python-dateutil>=2.8.2 in /usr/local/lib/python3.12/dist-packages (from pandas<3,>=1.4.0->streamlit->-r requirements.txt (line 1)) (2.9.0.post0)\n",
            "Requirement already satisfied: pytz>=2020.1 in /usr/local/lib/python3.12/dist-packages (from pandas<3,>=1.4.0->streamlit->-r requirements.txt (line 1)) (2025.2)\n",
            "Requirement already satisfied: tzdata>=2022.7 in /usr/local/lib/python3.12/dist-packages (from pandas<3,>=1.4.0->streamlit->-r requirements.txt (line 1)) (2025.2)\n",
            "Requirement already satisfied: smmap<6,>=3.0.1 in /usr/local/lib/python3.12/dist-packages (from gitdb<5,>=4.0.1->gitpython!=3.1.19,<4,>=3.0.7->streamlit->-r requirements.txt (line 1)) (5.0.2)\n",
            "Requirement already satisfied: MarkupSafe>=2.0 in /usr/local/lib/python3.12/dist-packages (from jinja2->altair!=5.4.0,!=5.4.1,<6,>=4.0->streamlit->-r requirements.txt (line 1)) (3.0.3)\n",
            "Requirement already satisfied: attrs>=22.2.0 in /usr/local/lib/python3.12/dist-packages (from jsonschema>=3.0->altair!=5.4.0,!=5.4.1,<6,>=4.0->streamlit->-r requirements.txt (line 1)) (25.4.0)\n",
            "Requirement already satisfied: jsonschema-specifications>=2023.03.6 in /usr/local/lib/python3.12/dist-packages (from jsonschema>=3.0->altair!=5.4.0,!=5.4.1,<6,>=4.0->streamlit->-r requirements.txt (line 1)) (2025.9.1)\n",
            "Requirement already satisfied: referencing>=0.28.4 in /usr/local/lib/python3.12/dist-packages (from jsonschema>=3.0->altair!=5.4.0,!=5.4.1,<6,>=4.0->streamlit->-r requirements.txt (line 1)) (0.37.0)\n",
            "Requirement already satisfied: rpds-py>=0.7.1 in /usr/local/lib/python3.12/dist-packages (from jsonschema>=3.0->altair!=5.4.0,!=5.4.1,<6,>=4.0->streamlit->-r requirements.txt (line 1)) (0.27.1)\n",
            "Requirement already satisfied: six>=1.5 in /usr/local/lib/python3.12/dist-packages (from python-dateutil>=2.8.2->pandas<3,>=1.4.0->streamlit->-r requirements.txt (line 1)) (1.17.0)\n"
          ]
        }
      ],
      "source": [
        "%%bash\n",
        "pip install -r requirements.txt"
      ]
    },
    {
      "cell_type": "code",
      "execution_count": null,
      "metadata": {
        "id": "TEODrOD_x2DX",
        "colab": {
          "base_uri": "https://localhost:8080/"
        },
        "outputId": "122fd598-ca6d-4611-827f-0ec63efa5f9c"
      },
      "outputs": [
        {
          "output_type": "stream",
          "name": "stdout",
          "text": [
            "\n",
            "Collecting usage statistics. To deactivate, set browser.gatherUsageStats to false.\n",
            "\u001b[0m\n",
            "\u001b[0m\n",
            "\u001b[34m\u001b[1m  You can now view your Streamlit app in your browser.\u001b[0m\n",
            "\u001b[0m\n",
            "\u001b[34m  Local URL: \u001b[0m\u001b[1mhttp://localhost:8501\u001b[0m\n",
            "\u001b[34m  Network URL: \u001b[0m\u001b[1mhttp://172.28.0.12:8501\u001b[0m\n",
            "\u001b[34m  External URL: \u001b[0m\u001b[1mhttp://34.106.171.129:8501\u001b[0m\n",
            "\u001b[0m\n"
          ]
        }
      ],
      "source": [
        "!streamlit run /usr/local/lib/python3.12/dist-packages/colab_kernel_launcher.py"
      ]
    },
    {
      "cell_type": "code",
      "source": [
        "!streamlit run app.py"
      ],
      "metadata": {
        "id": "5FpUQJIntr80"
      },
      "execution_count": null,
      "outputs": []
    },
    {
      "cell_type": "code",
      "source": [],
      "metadata": {
        "id": "RMSnN3q6yJN9"
      },
      "execution_count": null,
      "outputs": []
    }
  ],
  "metadata": {
    "colab": {
      "provenance": []
    },
    "kernelspec": {
      "display_name": "Python 3",
      "name": "python3"
    },
    "language_info": {
      "name": "python"
    }
  },
  "nbformat": 4,
  "nbformat_minor": 0
}